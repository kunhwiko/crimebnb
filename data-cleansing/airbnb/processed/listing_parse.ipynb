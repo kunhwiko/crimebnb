{
  "nbformat": 4,
  "nbformat_minor": 0,
  "metadata": {
    "colab": {
      "name": "Copy of Welcome To Colaboratory",
      "provenance": [],
      "collapsed_sections": [],
      "toc_visible": true
    },
    "kernelspec": {
      "display_name": "Python 3",
      "name": "python3"
    }
  },
  "cells": [
    {
      "cell_type": "markdown",
      "metadata": {
        "id": "9_fwuhe2XV3A"
      },
      "source": [
        "#Airbnb Listing Data Cleansing"
      ]
    },
    {
      "cell_type": "code",
      "metadata": {
        "id": "zybf5FIFbTfm"
      },
      "source": [
        "import pandas as pd\n",
        "import re\n",
        "from google.colab import drive\n",
        "from google.colab import files "
      ],
      "execution_count": null,
      "outputs": []
    },
    {
      "cell_type": "markdown",
      "metadata": {
        "id": "8h00VwHFiPBp"
      },
      "source": [
        "<br />"
      ]
    },
    {
      "cell_type": "markdown",
      "metadata": {
        "id": "m_s67xqVYUNn"
      },
      "source": [
        "## Part 1: Import Data"
      ]
    },
    {
      "cell_type": "markdown",
      "metadata": {
        "id": "lwlKI-7sZ9YQ"
      },
      "source": [
        "We first import the data from Kaggle using an API. "
      ]
    },
    {
      "cell_type": "code",
      "metadata": {
        "id": "ifQTb_Ip9YzT"
      },
      "source": [
        "# Step 1: install dependencies \n",
        "!pip install -q kaggle \n",
        "\n",
        "# Step 2: create API Token from Kaggle and upload Kaggle.json \n",
        "# Instructions : https://www.kaggle.com/general/74235\n",
        "files.upload()"
      ],
      "execution_count": null,
      "outputs": []
    },
    {
      "cell_type": "code",
      "metadata": {
        "id": "EnL5FvXcehgJ",
        "colab": {
          "base_uri": "https://localhost:8080/"
        },
        "outputId": "c198cef7-2d15-4097-fe12-071f3de788d9"
      },
      "source": [
        "# Step 3: additional steps \n",
        "!mkdir ~/.kaggle \n",
        "!cp kaggle.json ~/.kaggle/\n",
        "!chmod 600 ~/.kaggle/kaggle.json\n",
        "\n",
        "# Step 4: download the dataset \n",
        "# https://www.kaggle.com/samyukthamurali/airbnb-ratings-dataset\n",
        "!kaggle datasets download -d samyukthamurali/airbnb-ratings-dataset\n",
        "\n",
        "# Step 5: Unzip the files \n",
        "!unzip airbnb-ratings-dataset.zip"
      ],
      "execution_count": null,
      "outputs": [
        {
          "output_type": "stream",
          "text": [
            "Downloading airbnb-ratings-dataset.zip to /content\n",
            " 99% 1.27G/1.27G [00:15<00:00, 75.6MB/s]\n",
            "100% 1.27G/1.27G [00:15<00:00, 90.4MB/s]\n",
            "Archive:  airbnb-ratings-dataset.zip\n",
            "  inflating: LA_Listings.csv         \n",
            "  inflating: NY_Listings.csv         \n",
            "  inflating: airbnb-reviews.csv      \n",
            "  inflating: airbnb_ratings_new.csv  \n"
          ],
          "name": "stdout"
        }
      ]
    },
    {
      "cell_type": "code",
      "metadata": {
        "id": "Lm633T4Ugvbp",
        "colab": {
          "base_uri": "https://localhost:8080/"
        },
        "outputId": "594073c9-8bed-44f8-a47c-310fc991c096"
      },
      "source": [
        "# Step 6: import the necessary data \n",
        "\n",
        "leasing_df = pd.read_csv(\"/content/NY_Listings.csv\", encoding='latin-1')"
      ],
      "execution_count": null,
      "outputs": [
        {
          "output_type": "stream",
          "text": [
            "/usr/local/lib/python3.7/dist-packages/IPython/core/interactiveshell.py:2718: DtypeWarning: Columns (7,19,24) have mixed types.Specify dtype option on import or set low_memory=False.\n",
            "  interactivity=interactivity, compiler=compiler, result=result)\n"
          ],
          "name": "stderr"
        }
      ]
    },
    {
      "cell_type": "markdown",
      "metadata": {
        "id": "sRlfTbdJiQON"
      },
      "source": [
        "<br />"
      ]
    },
    {
      "cell_type": "markdown",
      "metadata": {
        "id": "dfpWNcWzgfP0"
      },
      "source": [
        "## Part 2: Initial Cleansing"
      ]
    },
    {
      "cell_type": "markdown",
      "metadata": {
        "id": "QT3Rm-LNi7Do"
      },
      "source": [
        "Begin by removing columns that we do not need. "
      ]
    },
    {
      "cell_type": "code",
      "metadata": {
        "id": "QWopTXgHiR6g"
      },
      "source": [
        "leasing_df.drop(columns = ['Host Response Rate', 'Street', 'State', 'Country', 'Property type', \\\n",
        "                           'Availability 365', 'Calendar last scraped', 'Last Review Date', 'Reviews per month'],\n",
        "                inplace = True)"
      ],
      "execution_count": null,
      "outputs": []
    },
    {
      "cell_type": "code",
      "metadata": {
        "id": "0vGFuU3QtT7A"
      },
      "source": [
        "# total score above 100 (max 100) makes no sense \n",
        "leasing_df = leasing_df[leasing_df[\"Review Scores Rating\"] <= 100]\n",
        "\n",
        "# capitalize \n",
        "leasing_df['City'] = leasing_df['City'].apply(lambda x : x.upper())\n",
        "leasing_df['Neighbourhood cleansed'] = leasing_df['Neighbourhood cleansed'].apply(lambda x : x.upper())\n",
        "leasing_df['Room type'] = leasing_df['Room type'].apply(lambda x : x.upper())\n"
      ],
      "execution_count": null,
      "outputs": []
    },
    {
      "cell_type": "markdown",
      "metadata": {
        "id": "FnhegYDYvupt"
      },
      "source": [
        "View what we have."
      ]
    },
    {
      "cell_type": "code",
      "metadata": {
        "id": "G5g8eksEvtsq",
        "colab": {
          "base_uri": "https://localhost:8080/",
          "height": 830
        },
        "outputId": "eb434ecd-04bb-4ba3-bca3-7001522e82e3"
      },
      "source": [
        "leasing_df"
      ],
      "execution_count": null,
      "outputs": [
        {
          "output_type": "execute_result",
          "data": {
            "text/html": [
              "<div>\n",
              "<style scoped>\n",
              "    .dataframe tbody tr th:only-of-type {\n",
              "        vertical-align: middle;\n",
              "    }\n",
              "\n",
              "    .dataframe tbody tr th {\n",
              "        vertical-align: top;\n",
              "    }\n",
              "\n",
              "    .dataframe thead th {\n",
              "        text-align: right;\n",
              "    }\n",
              "</style>\n",
              "<table border=\"1\" class=\"dataframe\">\n",
              "  <thead>\n",
              "    <tr style=\"text-align: right;\">\n",
              "      <th></th>\n",
              "      <th>Listing ID</th>\n",
              "      <th>Name</th>\n",
              "      <th>Host ID</th>\n",
              "      <th>Host Name</th>\n",
              "      <th>Host Is Superhost</th>\n",
              "      <th>Host total listings count</th>\n",
              "      <th>City</th>\n",
              "      <th>Neighbourhood cleansed</th>\n",
              "      <th>latitude</th>\n",
              "      <th>longitude</th>\n",
              "      <th>Room type</th>\n",
              "      <th>Accommodates</th>\n",
              "      <th>Bathrooms</th>\n",
              "      <th>Bedrooms</th>\n",
              "      <th>Amenities</th>\n",
              "      <th>Price</th>\n",
              "      <th>Minimum nights</th>\n",
              "      <th>Maximum nights</th>\n",
              "      <th>Number of reviews</th>\n",
              "      <th>Review Scores Rating</th>\n",
              "      <th>Review Scores Accuracy</th>\n",
              "      <th>Review Scores Cleanliness</th>\n",
              "      <th>Review Scores Checkin</th>\n",
              "      <th>Review Scores Communication</th>\n",
              "      <th>Review Scores Location</th>\n",
              "      <th>Review Scores Value</th>\n",
              "    </tr>\n",
              "  </thead>\n",
              "  <tbody>\n",
              "    <tr>\n",
              "      <th>0</th>\n",
              "      <td>2515</td>\n",
              "      <td>Sunny Private Room</td>\n",
              "      <td>16286162</td>\n",
              "      <td>Pat</td>\n",
              "      <td>False</td>\n",
              "      <td>4.0</td>\n",
              "      <td>BRONX</td>\n",
              "      <td>ALLERTON</td>\n",
              "      <td>40.866889</td>\n",
              "      <td>-73.857756</td>\n",
              "      <td>PRIVATE ROOM</td>\n",
              "      <td>1.0</td>\n",
              "      <td>1.0</td>\n",
              "      <td>1.0</td>\n",
              "      <td>Cable TV;Internet;Wireless Internet;Kitchen;Fr...</td>\n",
              "      <td>43</td>\n",
              "      <td>2</td>\n",
              "      <td>30.0</td>\n",
              "      <td>66</td>\n",
              "      <td>96</td>\n",
              "      <td>10</td>\n",
              "      <td>9</td>\n",
              "      <td>10</td>\n",
              "      <td>10</td>\n",
              "      <td>9</td>\n",
              "      <td>10</td>\n",
              "    </tr>\n",
              "    <tr>\n",
              "      <th>1</th>\n",
              "      <td>2539</td>\n",
              "      <td>Comfy bedroom minutes to Manhattan</td>\n",
              "      <td>44260966</td>\n",
              "      <td>Alicia</td>\n",
              "      <td>False</td>\n",
              "      <td>1.0</td>\n",
              "      <td>BRONX</td>\n",
              "      <td>SOUNDVIEW</td>\n",
              "      <td>40.829392</td>\n",
              "      <td>-73.865137</td>\n",
              "      <td>PRIVATE ROOM</td>\n",
              "      <td>1.0</td>\n",
              "      <td>1.0</td>\n",
              "      <td>1.0</td>\n",
              "      <td>TV;Internet;Wireless Internet;Air conditioning...</td>\n",
              "      <td>28</td>\n",
              "      <td>2</td>\n",
              "      <td>31.0</td>\n",
              "      <td>38</td>\n",
              "      <td>89</td>\n",
              "      <td>10</td>\n",
              "      <td>9</td>\n",
              "      <td>9</td>\n",
              "      <td>10</td>\n",
              "      <td>9</td>\n",
              "      <td>9</td>\n",
              "    </tr>\n",
              "    <tr>\n",
              "      <th>2</th>\n",
              "      <td>2595</td>\n",
              "      <td>Spacious RM in Private Home; Backyard/Near Metro</td>\n",
              "      <td>105394139</td>\n",
              "      <td>Ciprian</td>\n",
              "      <td>False</td>\n",
              "      <td>16.0</td>\n",
              "      <td>BRONX</td>\n",
              "      <td>FORDHAM</td>\n",
              "      <td>40.869139</td>\n",
              "      <td>-73.895096</td>\n",
              "      <td>PRIVATE ROOM</td>\n",
              "      <td>4.0</td>\n",
              "      <td>3.0</td>\n",
              "      <td>2.0</td>\n",
              "      <td>Internet;Wireless Internet;Air conditioning;Ki...</td>\n",
              "      <td>80</td>\n",
              "      <td>3</td>\n",
              "      <td>31.0</td>\n",
              "      <td>18</td>\n",
              "      <td>90</td>\n",
              "      <td>9</td>\n",
              "      <td>9</td>\n",
              "      <td>10</td>\n",
              "      <td>9</td>\n",
              "      <td>9</td>\n",
              "      <td>9</td>\n",
              "    </tr>\n",
              "    <tr>\n",
              "      <th>3</th>\n",
              "      <td>3330</td>\n",
              "      <td>Modern Bronx Treasure!</td>\n",
              "      <td>104262517</td>\n",
              "      <td>Felicia</td>\n",
              "      <td>False</td>\n",
              "      <td>1.0</td>\n",
              "      <td>BRONX</td>\n",
              "      <td>FORDHAM</td>\n",
              "      <td>40.868719</td>\n",
              "      <td>-73.891438</td>\n",
              "      <td>ENTIRE HOME/APT</td>\n",
              "      <td>4.0</td>\n",
              "      <td>1.0</td>\n",
              "      <td>1.0</td>\n",
              "      <td>TV;Internet;Wireless Internet;Air conditioning...</td>\n",
              "      <td>140</td>\n",
              "      <td>2</td>\n",
              "      <td>1125.0</td>\n",
              "      <td>7</td>\n",
              "      <td>85</td>\n",
              "      <td>9</td>\n",
              "      <td>10</td>\n",
              "      <td>8</td>\n",
              "      <td>9</td>\n",
              "      <td>9</td>\n",
              "      <td>9</td>\n",
              "    </tr>\n",
              "    <tr>\n",
              "      <th>4</th>\n",
              "      <td>3647</td>\n",
              "      <td>Good Vibes Sanctuary</td>\n",
              "      <td>58126473</td>\n",
              "      <td>Miriam</td>\n",
              "      <td>False</td>\n",
              "      <td>1.0</td>\n",
              "      <td>BRONX</td>\n",
              "      <td>FORDHAM</td>\n",
              "      <td>40.863628</td>\n",
              "      <td>-73.894787</td>\n",
              "      <td>PRIVATE ROOM</td>\n",
              "      <td>2.0</td>\n",
              "      <td>1.0</td>\n",
              "      <td>1.0</td>\n",
              "      <td>TV;Wireless Internet;Air conditioning;Kitchen;...</td>\n",
              "      <td>60</td>\n",
              "      <td>1</td>\n",
              "      <td>1125.0</td>\n",
              "      <td>56</td>\n",
              "      <td>95</td>\n",
              "      <td>10</td>\n",
              "      <td>10</td>\n",
              "      <td>10</td>\n",
              "      <td>10</td>\n",
              "      <td>9</td>\n",
              "      <td>10</td>\n",
              "    </tr>\n",
              "    <tr>\n",
              "      <th>...</th>\n",
              "      <td>...</td>\n",
              "      <td>...</td>\n",
              "      <td>...</td>\n",
              "      <td>...</td>\n",
              "      <td>...</td>\n",
              "      <td>...</td>\n",
              "      <td>...</td>\n",
              "      <td>...</td>\n",
              "      <td>...</td>\n",
              "      <td>...</td>\n",
              "      <td>...</td>\n",
              "      <td>...</td>\n",
              "      <td>...</td>\n",
              "      <td>...</td>\n",
              "      <td>...</td>\n",
              "      <td>...</td>\n",
              "      <td>...</td>\n",
              "      <td>...</td>\n",
              "      <td>...</td>\n",
              "      <td>...</td>\n",
              "      <td>...</td>\n",
              "      <td>...</td>\n",
              "      <td>...</td>\n",
              "      <td>...</td>\n",
              "      <td>...</td>\n",
              "      <td>...</td>\n",
              "    </tr>\n",
              "    <tr>\n",
              "      <th>75744</th>\n",
              "      <td>42806780</td>\n",
              "      <td>Male share room long term</td>\n",
              "      <td>305126403</td>\n",
              "      <td>Bruce</td>\n",
              "      <td>False</td>\n",
              "      <td>3.0</td>\n",
              "      <td>BROOKLYN</td>\n",
              "      <td>FLATBUSH</td>\n",
              "      <td>40.641480</td>\n",
              "      <td>-73.960730</td>\n",
              "      <td>SHARED ROOM</td>\n",
              "      <td>NaN</td>\n",
              "      <td>NaN</td>\n",
              "      <td>NaN</td>\n",
              "      <td>NaN</td>\n",
              "      <td>22</td>\n",
              "      <td>30</td>\n",
              "      <td>NaN</td>\n",
              "      <td>0</td>\n",
              "      <td>0</td>\n",
              "      <td>0</td>\n",
              "      <td>0</td>\n",
              "      <td>0</td>\n",
              "      <td>0</td>\n",
              "      <td>0</td>\n",
              "      <td>0</td>\n",
              "    </tr>\n",
              "    <tr>\n",
              "      <th>75745</th>\n",
              "      <td>42815083</td>\n",
              "      <td>Jfk flight attendant crashpad</td>\n",
              "      <td>63729602</td>\n",
              "      <td>Adriel</td>\n",
              "      <td>False</td>\n",
              "      <td>1.0</td>\n",
              "      <td>QUEENS</td>\n",
              "      <td>SPRINGFIELD GARDENS</td>\n",
              "      <td>40.681430</td>\n",
              "      <td>-73.754610</td>\n",
              "      <td>SHARED ROOM</td>\n",
              "      <td>NaN</td>\n",
              "      <td>NaN</td>\n",
              "      <td>NaN</td>\n",
              "      <td>NaN</td>\n",
              "      <td>50</td>\n",
              "      <td>1</td>\n",
              "      <td>NaN</td>\n",
              "      <td>0</td>\n",
              "      <td>0</td>\n",
              "      <td>0</td>\n",
              "      <td>0</td>\n",
              "      <td>0</td>\n",
              "      <td>0</td>\n",
              "      <td>0</td>\n",
              "      <td>0</td>\n",
              "    </tr>\n",
              "    <tr>\n",
              "      <th>75746</th>\n",
              "      <td>42831981</td>\n",
              "      <td>Double-Bed in Sunset Park/Industry City</td>\n",
              "      <td>264569855</td>\n",
              "      <td>Leidi</td>\n",
              "      <td>False</td>\n",
              "      <td>3.0</td>\n",
              "      <td>BROOKLYN</td>\n",
              "      <td>SUNSET PARK</td>\n",
              "      <td>40.647210</td>\n",
              "      <td>-74.014180</td>\n",
              "      <td>SHARED ROOM</td>\n",
              "      <td>NaN</td>\n",
              "      <td>NaN</td>\n",
              "      <td>NaN</td>\n",
              "      <td>NaN</td>\n",
              "      <td>45</td>\n",
              "      <td>1</td>\n",
              "      <td>NaN</td>\n",
              "      <td>0</td>\n",
              "      <td>0</td>\n",
              "      <td>0</td>\n",
              "      <td>0</td>\n",
              "      <td>0</td>\n",
              "      <td>0</td>\n",
              "      <td>0</td>\n",
              "      <td>0</td>\n",
              "    </tr>\n",
              "    <tr>\n",
              "      <th>75747</th>\n",
              "      <td>42862086</td>\n",
              "      <td>(B6) BedStuy/Bushwick Shared Basement</td>\n",
              "      <td>538108</td>\n",
              "      <td>Kevin</td>\n",
              "      <td>False</td>\n",
              "      <td>6.0</td>\n",
              "      <td>BROOKLYN</td>\n",
              "      <td>BEDFORD-STUYVESANT</td>\n",
              "      <td>40.691970</td>\n",
              "      <td>-73.930030</td>\n",
              "      <td>SHARED ROOM</td>\n",
              "      <td>NaN</td>\n",
              "      <td>NaN</td>\n",
              "      <td>NaN</td>\n",
              "      <td>NaN</td>\n",
              "      <td>20</td>\n",
              "      <td>3</td>\n",
              "      <td>NaN</td>\n",
              "      <td>0</td>\n",
              "      <td>0</td>\n",
              "      <td>0</td>\n",
              "      <td>0</td>\n",
              "      <td>0</td>\n",
              "      <td>0</td>\n",
              "      <td>0</td>\n",
              "      <td>0</td>\n",
              "    </tr>\n",
              "    <tr>\n",
              "      <th>75748</th>\n",
              "      <td>42881423</td>\n",
              "      <td>TIME SQUARE 43rd Street-&gt;Single Bed on 1st floor</td>\n",
              "      <td>30985759</td>\n",
              "      <td>Taz</td>\n",
              "      <td>False</td>\n",
              "      <td>7.0</td>\n",
              "      <td>MANHATTAN</td>\n",
              "      <td>HELL'S KITCHEN</td>\n",
              "      <td>40.759805</td>\n",
              "      <td>-73.991899</td>\n",
              "      <td>SHARED ROOM</td>\n",
              "      <td>NaN</td>\n",
              "      <td>NaN</td>\n",
              "      <td>NaN</td>\n",
              "      <td>NaN</td>\n",
              "      <td>58</td>\n",
              "      <td>1</td>\n",
              "      <td>NaN</td>\n",
              "      <td>0</td>\n",
              "      <td>0</td>\n",
              "      <td>0</td>\n",
              "      <td>0</td>\n",
              "      <td>0</td>\n",
              "      <td>0</td>\n",
              "      <td>0</td>\n",
              "      <td>0</td>\n",
              "    </tr>\n",
              "  </tbody>\n",
              "</table>\n",
              "<p>75746 rows × 26 columns</p>\n",
              "</div>"
            ],
            "text/plain": [
              "       Listing ID  ... Review Scores Value\n",
              "0            2515  ...                  10\n",
              "1            2539  ...                   9\n",
              "2            2595  ...                   9\n",
              "3            3330  ...                   9\n",
              "4            3647  ...                  10\n",
              "...           ...  ...                 ...\n",
              "75744    42806780  ...                   0\n",
              "75745    42815083  ...                   0\n",
              "75746    42831981  ...                   0\n",
              "75747    42862086  ...                   0\n",
              "75748    42881423  ...                   0\n",
              "\n",
              "[75746 rows x 26 columns]"
            ]
          },
          "metadata": {
            "tags": []
          },
          "execution_count": 79
        }
      ]
    },
    {
      "cell_type": "markdown",
      "metadata": {
        "id": "kvZ78mg-sU3o"
      },
      "source": [
        "We now break the table into different parts. \n",
        "\n",
        "  1. Host\n",
        "  2. Listing\n",
        "  3. Neighborhood \n",
        "  4. Coordinate \n",
        "  5. Borough\n",
        "  6. Amenities \n",
        "  7. Ratings "
      ]
    },
    {
      "cell_type": "code",
      "metadata": {
        "id": "WeArLOEMqLhk"
      },
      "source": [
        "host_df = leasing_df[[\"Host ID\", \"Host Name\", \"Host total listings count\"]]\n",
        "neighborhood_df = leasing_df[[\"Neighbourhood cleansed\", \"City\"]]\n",
        "coordinate_df = leasing_df[[\"latitude\", \"longitude\"]]\n",
        "listing_df = leasing_df[[\"Host ID\", \"Listing ID\", \"Name\", \"Host Is Superhost\", \"Room type\", \"Accommodates\", \\\n",
        "                         \"Price\", \"Minimum nights\", \"Maximum nights\", \"latitude\", \"longitude\", \"City\", \"Neighbourhood cleansed\"]]\n",
        "ratings_df = leasing_df[[\"Host ID\", \"Listing ID\", \"Number of reviews\", \"Review Scores Rating\", \"Review Scores Accuracy\", \"Review Scores Cleanliness\", \\\n",
        "                         \"Review Scores Checkin\", \"Review Scores Communication\", \"Review Scores Location\", \"Review Scores Value\"]]\n",
        "amenities_df = leasing_df[[\"Host ID\", \"Listing ID\", \"Amenities\", \"Bathrooms\", \"Bedrooms\"]]\n"
      ],
      "execution_count": null,
      "outputs": []
    },
    {
      "cell_type": "markdown",
      "metadata": {
        "id": "th9yMxqZId_1"
      },
      "source": [
        "<br />"
      ]
    },
    {
      "cell_type": "markdown",
      "metadata": {
        "id": "PXN8aMfFLfmA"
      },
      "source": [
        "## Part 3: Cleanse Host, Neighborhood, Coordinate Table"
      ]
    },
    {
      "cell_type": "markdown",
      "metadata": {
        "id": "KkB8W6lXOLbD"
      },
      "source": [
        "Host dataframe has non-empty primary keys, host name need not be modified, host total listings count properly represents null values as empty. "
      ]
    },
    {
      "cell_type": "markdown",
      "metadata": {
        "id": "4-GUoyv-T5Bp"
      },
      "source": [
        "Cleanse the neighborhood dataframe. We only need to drop duplicates as there are no invalid values."
      ]
    },
    {
      "cell_type": "code",
      "metadata": {
        "id": "rLYtaCDePMrQ"
      },
      "source": [
        "# drop duplicates \n",
        "neighborhood_df = neighborhood_df.drop_duplicates()"
      ],
      "execution_count": null,
      "outputs": []
    },
    {
      "cell_type": "markdown",
      "metadata": {
        "id": "kp_VasrAWiyX"
      },
      "source": [
        "Coordinate dataframe has non-empty primary keys, and city has no invalid values. "
      ]
    },
    {
      "cell_type": "markdown",
      "metadata": {
        "id": "IWNtxeuhIcBe"
      },
      "source": [
        "<br />"
      ]
    },
    {
      "cell_type": "markdown",
      "metadata": {
        "id": "YDTm142w-CMx"
      },
      "source": [
        "## Part 4: Cleanse Listing, Rating Table "
      ]
    },
    {
      "cell_type": "code",
      "metadata": {
        "colab": {
          "base_uri": "https://localhost:8080/"
        },
        "id": "erKx-tLo-X5Y",
        "outputId": "f0ac1ef5-9de4-48de-d282-233d551a598c"
      },
      "source": [
        "# check for data types \n",
        "listing_df.dtypes"
      ],
      "execution_count": null,
      "outputs": [
        {
          "output_type": "execute_result",
          "data": {
            "text/plain": [
              "Host ID                     int64\n",
              "Listing ID                  int64\n",
              "Name                       object\n",
              "Host Is Superhost            bool\n",
              "Room type                  object\n",
              "Accommodates              float64\n",
              "Price                       int64\n",
              "Minimum nights              int64\n",
              "Maximum nights            float64\n",
              "latitude                  float64\n",
              "longitude                 float64\n",
              "City                       object\n",
              "Neighbourhood cleansed     object\n",
              "dtype: object"
            ]
          },
          "metadata": {
            "tags": []
          },
          "execution_count": 83
        }
      ]
    },
    {
      "cell_type": "code",
      "metadata": {
        "colab": {
          "base_uri": "https://localhost:8080/"
        },
        "id": "ytdPj8vqtiip",
        "outputId": "b4d0b94d-5daa-402f-bd4c-00fd384bec6a"
      },
      "source": [
        "# check for data types \n",
        "ratings_df.dtypes"
      ],
      "execution_count": null,
      "outputs": [
        {
          "output_type": "execute_result",
          "data": {
            "text/plain": [
              "Host ID                        int64\n",
              "Listing ID                     int64\n",
              "Number of reviews              int64\n",
              "Review Scores Rating           int64\n",
              "Review Scores Accuracy         int64\n",
              "Review Scores Cleanliness      int64\n",
              "Review Scores Checkin          int64\n",
              "Review Scores Communication    int64\n",
              "Review Scores Location         int64\n",
              "Review Scores Value            int64\n",
              "dtype: object"
            ]
          },
          "metadata": {
            "tags": []
          },
          "execution_count": 84
        }
      ]
    },
    {
      "cell_type": "code",
      "metadata": {
        "colab": {
          "base_uri": "https://localhost:8080/",
          "height": 606
        },
        "id": "-pWffwGlItOc",
        "outputId": "a04eff97-9faa-42ad-f39e-6c7138fd1183"
      },
      "source": [
        "# check that null values are not hard coded, this should show as \"NaN\" in Pandas \n",
        "listing_df[pd.isna(listing_df['Accommodates']) == True]\n",
        "\n",
        "# check that null values are not hard coded, this should show as \"NaN\" in Pandas \n",
        "listing_df[pd.isna(listing_df['Maximum nights']) == True]"
      ],
      "execution_count": null,
      "outputs": [
        {
          "output_type": "execute_result",
          "data": {
            "text/html": [
              "<div>\n",
              "<style scoped>\n",
              "    .dataframe tbody tr th:only-of-type {\n",
              "        vertical-align: middle;\n",
              "    }\n",
              "\n",
              "    .dataframe tbody tr th {\n",
              "        vertical-align: top;\n",
              "    }\n",
              "\n",
              "    .dataframe thead th {\n",
              "        text-align: right;\n",
              "    }\n",
              "</style>\n",
              "<table border=\"1\" class=\"dataframe\">\n",
              "  <thead>\n",
              "    <tr style=\"text-align: right;\">\n",
              "      <th></th>\n",
              "      <th>Host ID</th>\n",
              "      <th>Listing ID</th>\n",
              "      <th>Name</th>\n",
              "      <th>Host Is Superhost</th>\n",
              "      <th>Room type</th>\n",
              "      <th>Accommodates</th>\n",
              "      <th>Price</th>\n",
              "      <th>Minimum nights</th>\n",
              "      <th>Maximum nights</th>\n",
              "      <th>latitude</th>\n",
              "      <th>longitude</th>\n",
              "      <th>City</th>\n",
              "      <th>Neighbourhood cleansed</th>\n",
              "    </tr>\n",
              "  </thead>\n",
              "  <tbody>\n",
              "    <tr>\n",
              "      <th>44310</th>\n",
              "      <td>8380</td>\n",
              "      <td>5552</td>\n",
              "      <td>Spacious river view in the West Village</td>\n",
              "      <td>False</td>\n",
              "      <td>ENTIRE HOME/APT</td>\n",
              "      <td>NaN</td>\n",
              "      <td>160</td>\n",
              "      <td>3</td>\n",
              "      <td>NaN</td>\n",
              "      <td>40.735520</td>\n",
              "      <td>-74.010420</td>\n",
              "      <td>MANHATTAN</td>\n",
              "      <td>WEST VILLAGE</td>\n",
              "    </tr>\n",
              "    <tr>\n",
              "      <th>44311</th>\n",
              "      <td>20950</td>\n",
              "      <td>7726</td>\n",
              "      <td>Hip Historic Brownstone Apartment with Backyard</td>\n",
              "      <td>False</td>\n",
              "      <td>ENTIRE HOME/APT</td>\n",
              "      <td>NaN</td>\n",
              "      <td>99</td>\n",
              "      <td>3</td>\n",
              "      <td>NaN</td>\n",
              "      <td>40.675920</td>\n",
              "      <td>-73.946940</td>\n",
              "      <td>BROOKLYN</td>\n",
              "      <td>CROWN HEIGHTS</td>\n",
              "    </tr>\n",
              "    <tr>\n",
              "      <th>44312</th>\n",
              "      <td>17985</td>\n",
              "      <td>7750</td>\n",
              "      <td>Huge 2 BR Upper East  Cental Park</td>\n",
              "      <td>False</td>\n",
              "      <td>ENTIRE HOME/APT</td>\n",
              "      <td>NaN</td>\n",
              "      <td>190</td>\n",
              "      <td>7</td>\n",
              "      <td>NaN</td>\n",
              "      <td>40.796850</td>\n",
              "      <td>-73.948720</td>\n",
              "      <td>MANHATTAN</td>\n",
              "      <td>EAST HARLEM</td>\n",
              "    </tr>\n",
              "    <tr>\n",
              "      <th>44313</th>\n",
              "      <td>47727</td>\n",
              "      <td>12343</td>\n",
              "      <td>BEST BET IN HARLEM</td>\n",
              "      <td>False</td>\n",
              "      <td>ENTIRE HOME/APT</td>\n",
              "      <td>NaN</td>\n",
              "      <td>150</td>\n",
              "      <td>7</td>\n",
              "      <td>NaN</td>\n",
              "      <td>40.811750</td>\n",
              "      <td>-73.944780</td>\n",
              "      <td>MANHATTAN</td>\n",
              "      <td>HARLEM</td>\n",
              "    </tr>\n",
              "    <tr>\n",
              "      <th>44314</th>\n",
              "      <td>56094</td>\n",
              "      <td>14287</td>\n",
              "      <td>Cozy 1BD on Central Park West in New York City</td>\n",
              "      <td>False</td>\n",
              "      <td>ENTIRE HOME/APT</td>\n",
              "      <td>NaN</td>\n",
              "      <td>151</td>\n",
              "      <td>4</td>\n",
              "      <td>NaN</td>\n",
              "      <td>40.786350</td>\n",
              "      <td>-73.970080</td>\n",
              "      <td>MANHATTAN</td>\n",
              "      <td>UPPER WEST SIDE</td>\n",
              "    </tr>\n",
              "    <tr>\n",
              "      <th>...</th>\n",
              "      <td>...</td>\n",
              "      <td>...</td>\n",
              "      <td>...</td>\n",
              "      <td>...</td>\n",
              "      <td>...</td>\n",
              "      <td>...</td>\n",
              "      <td>...</td>\n",
              "      <td>...</td>\n",
              "      <td>...</td>\n",
              "      <td>...</td>\n",
              "      <td>...</td>\n",
              "      <td>...</td>\n",
              "      <td>...</td>\n",
              "    </tr>\n",
              "    <tr>\n",
              "      <th>75744</th>\n",
              "      <td>305126403</td>\n",
              "      <td>42806780</td>\n",
              "      <td>Male share room long term</td>\n",
              "      <td>False</td>\n",
              "      <td>SHARED ROOM</td>\n",
              "      <td>NaN</td>\n",
              "      <td>22</td>\n",
              "      <td>30</td>\n",
              "      <td>NaN</td>\n",
              "      <td>40.641480</td>\n",
              "      <td>-73.960730</td>\n",
              "      <td>BROOKLYN</td>\n",
              "      <td>FLATBUSH</td>\n",
              "    </tr>\n",
              "    <tr>\n",
              "      <th>75745</th>\n",
              "      <td>63729602</td>\n",
              "      <td>42815083</td>\n",
              "      <td>Jfk flight attendant crashpad</td>\n",
              "      <td>False</td>\n",
              "      <td>SHARED ROOM</td>\n",
              "      <td>NaN</td>\n",
              "      <td>50</td>\n",
              "      <td>1</td>\n",
              "      <td>NaN</td>\n",
              "      <td>40.681430</td>\n",
              "      <td>-73.754610</td>\n",
              "      <td>QUEENS</td>\n",
              "      <td>SPRINGFIELD GARDENS</td>\n",
              "    </tr>\n",
              "    <tr>\n",
              "      <th>75746</th>\n",
              "      <td>264569855</td>\n",
              "      <td>42831981</td>\n",
              "      <td>Double-Bed in Sunset Park/Industry City</td>\n",
              "      <td>False</td>\n",
              "      <td>SHARED ROOM</td>\n",
              "      <td>NaN</td>\n",
              "      <td>45</td>\n",
              "      <td>1</td>\n",
              "      <td>NaN</td>\n",
              "      <td>40.647210</td>\n",
              "      <td>-74.014180</td>\n",
              "      <td>BROOKLYN</td>\n",
              "      <td>SUNSET PARK</td>\n",
              "    </tr>\n",
              "    <tr>\n",
              "      <th>75747</th>\n",
              "      <td>538108</td>\n",
              "      <td>42862086</td>\n",
              "      <td>(B6) BedStuy/Bushwick Shared Basement</td>\n",
              "      <td>False</td>\n",
              "      <td>SHARED ROOM</td>\n",
              "      <td>NaN</td>\n",
              "      <td>20</td>\n",
              "      <td>3</td>\n",
              "      <td>NaN</td>\n",
              "      <td>40.691970</td>\n",
              "      <td>-73.930030</td>\n",
              "      <td>BROOKLYN</td>\n",
              "      <td>BEDFORD-STUYVESANT</td>\n",
              "    </tr>\n",
              "    <tr>\n",
              "      <th>75748</th>\n",
              "      <td>30985759</td>\n",
              "      <td>42881423</td>\n",
              "      <td>TIME SQUARE 43rd Street-&gt;Single Bed on 1st floor</td>\n",
              "      <td>False</td>\n",
              "      <td>SHARED ROOM</td>\n",
              "      <td>NaN</td>\n",
              "      <td>58</td>\n",
              "      <td>1</td>\n",
              "      <td>NaN</td>\n",
              "      <td>40.759805</td>\n",
              "      <td>-73.991899</td>\n",
              "      <td>MANHATTAN</td>\n",
              "      <td>HELL'S KITCHEN</td>\n",
              "    </tr>\n",
              "  </tbody>\n",
              "</table>\n",
              "<p>31439 rows × 13 columns</p>\n",
              "</div>"
            ],
            "text/plain": [
              "         Host ID  Listing ID  ...       City  Neighbourhood cleansed\n",
              "44310       8380        5552  ...  MANHATTAN            WEST VILLAGE\n",
              "44311      20950        7726  ...   BROOKLYN           CROWN HEIGHTS\n",
              "44312      17985        7750  ...  MANHATTAN             EAST HARLEM\n",
              "44313      47727       12343  ...  MANHATTAN                  HARLEM\n",
              "44314      56094       14287  ...  MANHATTAN         UPPER WEST SIDE\n",
              "...          ...         ...  ...        ...                     ...\n",
              "75744  305126403    42806780  ...   BROOKLYN                FLATBUSH\n",
              "75745   63729602    42815083  ...     QUEENS     SPRINGFIELD GARDENS\n",
              "75746  264569855    42831981  ...   BROOKLYN             SUNSET PARK\n",
              "75747     538108    42862086  ...   BROOKLYN      BEDFORD-STUYVESANT\n",
              "75748   30985759    42881423  ...  MANHATTAN          HELL'S KITCHEN\n",
              "\n",
              "[31439 rows x 13 columns]"
            ]
          },
          "metadata": {
            "tags": []
          },
          "execution_count": 85
        }
      ]
    },
    {
      "cell_type": "markdown",
      "metadata": {
        "id": "7VhNOC44LnJW"
      },
      "source": [
        "<br />"
      ]
    },
    {
      "cell_type": "markdown",
      "metadata": {
        "id": "l_QOtXs9RU3i"
      },
      "source": [
        "## Part 5: Cleanse Amenities Table "
      ]
    },
    {
      "cell_type": "markdown",
      "metadata": {
        "id": "AjtN4gv3Rq-o"
      },
      "source": [
        "For \"Bathrooms\" and \"Bedrooms\", both hard coded NAs and blanks exist together in the original csv file. We check if both of these are represented as NaN."
      ]
    },
    {
      "cell_type": "code",
      "metadata": {
        "colab": {
          "base_uri": "https://localhost:8080/",
          "height": 80
        },
        "id": "Vk6MTB2oRc8K",
        "outputId": "00275c88-012d-4993-931c-b1571669f66f"
      },
      "source": [
        "# check blank values are represented as NaN\n",
        "amenities_df[amenities_df[\"Host ID\"] == 2001830]\n",
        "\n",
        "# check NA values are represented as NaN\n",
        "amenities_df[amenities_df[\"Host ID\"] == 48608026]"
      ],
      "execution_count": null,
      "outputs": [
        {
          "output_type": "execute_result",
          "data": {
            "text/html": [
              "<div>\n",
              "<style scoped>\n",
              "    .dataframe tbody tr th:only-of-type {\n",
              "        vertical-align: middle;\n",
              "    }\n",
              "\n",
              "    .dataframe tbody tr th {\n",
              "        vertical-align: top;\n",
              "    }\n",
              "\n",
              "    .dataframe thead th {\n",
              "        text-align: right;\n",
              "    }\n",
              "</style>\n",
              "<table border=\"1\" class=\"dataframe\">\n",
              "  <thead>\n",
              "    <tr style=\"text-align: right;\">\n",
              "      <th></th>\n",
              "      <th>Host ID</th>\n",
              "      <th>Listing ID</th>\n",
              "      <th>Amenities</th>\n",
              "      <th>Bathrooms</th>\n",
              "      <th>Bedrooms</th>\n",
              "    </tr>\n",
              "  </thead>\n",
              "  <tbody>\n",
              "    <tr>\n",
              "      <th>62319</th>\n",
              "      <td>48608026</td>\n",
              "      <td>20663997</td>\n",
              "      <td>NaN</td>\n",
              "      <td>NaN</td>\n",
              "      <td>NaN</td>\n",
              "    </tr>\n",
              "  </tbody>\n",
              "</table>\n",
              "</div>"
            ],
            "text/plain": [
              "        Host ID  Listing ID Amenities  Bathrooms  Bedrooms\n",
              "62319  48608026    20663997       NaN        NaN       NaN"
            ]
          },
          "metadata": {
            "tags": []
          },
          "execution_count": 86
        }
      ]
    },
    {
      "cell_type": "markdown",
      "metadata": {
        "id": "8w6-1qEXT7ys"
      },
      "source": [
        "The \"Amenities\" column is an array of strings. We want to break this up into different columns. Not all values will be used, just the popular ones. \n",
        "\n",
        "The popular values are: kitchen, cable_tv, internet, wifi, free_parking, heating, air_conditioning. These values will be represented as boolean columns. "
      ]
    },
    {
      "cell_type": "code",
      "metadata": {
        "id": "Qv3JPvq_T9k7"
      },
      "source": [
        "# first add the columns to the amenities dataframe \n",
        "amenities_df = amenities_df.assign(kitchen = [False for _ in range(len(amenities_df))],\n",
        "                    cable_tv = [False for _ in range(len(amenities_df))],\n",
        "                    internet = [False for _ in range(len(amenities_df))],\n",
        "                    wifi = [False for _ in range(len(amenities_df))],\n",
        "                    free_parking = [False for _ in range(len(amenities_df))],\n",
        "                    heating = [False for _ in range(len(amenities_df))],\n",
        "                    air_conditioning = [False for _ in range(len(amenities_df))])\n",
        "\n",
        "amenities_df[\"Amenities\"].fillna(\"[]\", inplace = True)\n",
        "\n",
        "def str_parser(strs):\n",
        "  split_strs = strs.split(\";\")\n",
        "  return split_strs\n",
        "\n",
        "def fill_boolean_columns():\n",
        "  for i in range(len(amenities_df)):\n",
        "    pass \n",
        "\n",
        "amenities_df[\"Amenities\"] = amenities_df['Amenities'].apply(lambda x : str_parser(x))\n"
      ],
      "execution_count": null,
      "outputs": []
    },
    {
      "cell_type": "code",
      "metadata": {
        "id": "K75qV4P1BKBF"
      },
      "source": [
        "for i in range(len(amenities_df)):\n",
        "  for word in amenities_df['Amenities'].iat[i]:\n",
        "    if word == \"Cable TV\":\n",
        "      amenities_df[\"cable_tv\"].iat[i] = True \n",
        "    if word == \"Wireless Internet\":\n",
        "      amenities_df[\"wifi\"].iat[i] = True\n",
        "    if \"free parking\" in word.lower():\n",
        "      amenities_df[\"free_parking\"].iat[i] = True\n",
        "    if word == \"Air conditioning\":\n",
        "      amenities_df[\"air_conditioning\"].iat[i] = True\n",
        "    if word == \"Kitchen\" or word == \"Internet\" or word == \"Heating\":\n",
        "      amenities_df[word.lower()].iat[i] = True\n",
        "    \n",
        "amenities_df.drop(columns=['Amenities'], inplace=True)"
      ],
      "execution_count": null,
      "outputs": []
    },
    {
      "cell_type": "markdown",
      "metadata": {
        "id": "vXFvXaB2uZtS"
      },
      "source": [
        "<br />"
      ]
    },
    {
      "cell_type": "markdown",
      "metadata": {
        "id": "LBS78s_osJL8"
      },
      "source": [
        "## Part 6: Rename Columns"
      ]
    },
    {
      "cell_type": "code",
      "metadata": {
        "id": "4BgGvHgosZSb"
      },
      "source": [
        "neighborhood_df = neighborhood_df.rename(columns={\"Neighbourhood cleansed\": \"neighborhood\", \"City\": \"borough\"})\n",
        "neighborhood_df.reset_index(drop=True, inplace=True)"
      ],
      "execution_count": null,
      "outputs": []
    },
    {
      "cell_type": "code",
      "metadata": {
        "id": "r0siAz9ByXGl"
      },
      "source": [
        "host_df = host_df.rename(columns={\"Host ID\": \"id\", \"Host Name\": \"hostname\", \"Host total listings count\": \"host_listing_count\"})\n",
        "host_df.reset_index(drop=True, inplace=True)"
      ],
      "execution_count": null,
      "outputs": []
    },
    {
      "cell_type": "code",
      "metadata": {
        "id": "fwjmGEktsRH4"
      },
      "source": [
        "coordinate_df.reset_index(drop=True, inplace=True)"
      ],
      "execution_count": null,
      "outputs": []
    },
    {
      "cell_type": "code",
      "metadata": {
        "id": "5UNpCRMltMO4"
      },
      "source": [
        "listing_df = listing_df.rename(columns={\"Host ID\": \"host_id\", \"Listing ID\": \"listing_id\", \"Name\": \"listing_name\",\n",
        "                                        \"Host Is Superhost\": \"host_is_superhost\", \"Room type\": \"room_type\", \n",
        "                                        \"Accommodates\": \"accommodates\", \"Price\": \"price\", \"Minimum nights\": \"min_nights\", \"Maximum nights\": \"max_nights\", \n",
        "                                        \"City\": \"borough\", \"Neighbourhood cleansed\": \"neighborhood\"})\n",
        "listing_df.reset_index(drop=True, inplace=True)"
      ],
      "execution_count": null,
      "outputs": []
    },
    {
      "cell_type": "code",
      "metadata": {
        "id": "vDWbIX6WsDYO"
      },
      "source": [
        "ratings_df = ratings_df.rename(columns={\"Host ID\": \"host_id\", \"Listing ID\": \"listing_id\", \"Number of reviews\": \"number_of_reviews\",\n",
        "                                        \"Review Scores Rating\": \"rating_scores\", \"Review Scores Accuracy\": \"accuracy_score\", \n",
        "                                        \"Review Scores Cleanliness\": \"cleanliness_score\", \"Review Scores Checkin\": \"checkin_score\", \n",
        "                                        \"Review Scores Communication\": \"communication_score\", \"Review Scores Location\": \"location_score\",\n",
        "                                        \"Review Scores Value\": \"value_score\"})\n",
        "ratings_df.reset_index(drop=True, inplace=True)"
      ],
      "execution_count": null,
      "outputs": []
    },
    {
      "cell_type": "code",
      "metadata": {
        "id": "SOzqvP-7vKlQ"
      },
      "source": [
        "amenities_df = amenities_df.rename(columns={\"Host ID\": \"host_id\", \"Listing ID\": \"listing_id\", \"Bathrooms\": \"bathrooms\", \"Bedrooms\": \"bedrooms\"})\n",
        "amenities_df.reset_index(drop=True, inplace=True)"
      ],
      "execution_count": null,
      "outputs": []
    },
    {
      "cell_type": "markdown",
      "metadata": {
        "id": "oT6omy_iua1P"
      },
      "source": [
        "<br />"
      ]
    },
    {
      "cell_type": "markdown",
      "metadata": {
        "id": "2-jipGl1uWSo"
      },
      "source": [
        "## Part 7: Export CSV files "
      ]
    },
    {
      "cell_type": "code",
      "metadata": {
        "id": "ZpdUInHIur0o",
        "colab": {
          "base_uri": "https://localhost:8080/"
        },
        "outputId": "6e5cf58e-8fd9-4ecb-fb15-a29dbe652dd9"
      },
      "source": [
        "# Mount your Drive to the Colab VM.\n",
        "drive.mount('/gdrive')\n",
        "\n",
        "# Write the DataFrame to CSV file.\n",
        "with open('/gdrive/My Drive/neighborhood.csv', 'w') as f:\n",
        "  neighborhood_df.to_csv(f)\n",
        "\n",
        "with open('/gdrive/My Drive/host.csv', 'w') as f:\n",
        "  host_df.to_csv(f)\n",
        "\n",
        "with open('/gdrive/My Drive/coordinate.csv', 'w') as f:\n",
        "  coordinate_df.to_csv(f)\n",
        "\n",
        "with open('/gdrive/My Drive/listing.csv', 'w') as f:\n",
        "  listing_df.to_csv(f)\n",
        "\n",
        "with open('/gdrive/My Drive/ratings.csv', 'w') as f:\n",
        "  ratings_df.to_csv(f)\n",
        "\n",
        "with open('/gdrive/My Drive/amenities.csv', 'w') as f:\n",
        "  amenities_df.to_csv(f)"
      ],
      "execution_count": null,
      "outputs": [
        {
          "output_type": "stream",
          "text": [
            "Drive already mounted at /gdrive; to attempt to forcibly remount, call drive.mount(\"/gdrive\", force_remount=True).\n"
          ],
          "name": "stdout"
        }
      ]
    }
  ]
}